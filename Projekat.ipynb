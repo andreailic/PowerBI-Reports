{
 "cells": [
  {
   "cell_type": "code",
   "execution_count": 1,
   "id": "ad6d4dff",
   "metadata": {},
   "outputs": [],
   "source": [
    "import sqlite3\n",
    "import pandas as pd \n",
    "from sklearn.tree import DecisionTreeRegressor\n",
    "from sklearn.linear_model import LinearRegression\n",
    "from sklearn.model_selection import train_test_split\n",
    "from sklearn.metrics import mean_squared_error\n",
    "from math import sqrt\n"
   ]
  },
  {
   "cell_type": "code",
   "execution_count": 5,
   "id": "b1fb53d9",
   "metadata": {},
   "outputs": [],
   "source": [
    "data = pd.read_excel('.\\BrojStanovnika.xlsx')"
   ]
  },
  {
   "cell_type": "code",
   "execution_count": 6,
   "id": "8fbb6e1b",
   "metadata": {},
   "outputs": [
    {
     "data": {
      "text/html": [
       "<div>\n",
       "<style scoped>\n",
       "    .dataframe tbody tr th:only-of-type {\n",
       "        vertical-align: middle;\n",
       "    }\n",
       "\n",
       "    .dataframe tbody tr th {\n",
       "        vertical-align: top;\n",
       "    }\n",
       "\n",
       "    .dataframe thead th {\n",
       "        text-align: right;\n",
       "    }\n",
       "</style>\n",
       "<table border=\"1\" class=\"dataframe\">\n",
       "  <thead>\n",
       "    <tr style=\"text-align: right;\">\n",
       "      <th></th>\n",
       "      <th>Opstina</th>\n",
       "      <th>Grad</th>\n",
       "      <th>IDRegiona</th>\n",
       "      <th>Stanovnistvo2017</th>\n",
       "      <th>Stanovnistvo2018</th>\n",
       "      <th>Stanovnistvo2019</th>\n",
       "      <th>Stanovnistvo2020</th>\n",
       "    </tr>\n",
       "  </thead>\n",
       "  <tbody>\n",
       "    <tr>\n",
       "      <th>0</th>\n",
       "      <td>Петроварадин</td>\n",
       "      <td>Нови Сад</td>\n",
       "      <td>2</td>\n",
       "      <td>34041</td>\n",
       "      <td>34055</td>\n",
       "      <td>34150</td>\n",
       "      <td>34281</td>\n",
       "    </tr>\n",
       "    <tr>\n",
       "      <th>1</th>\n",
       "      <td>Нови Сад</td>\n",
       "      <td>Нови Сад</td>\n",
       "      <td>2</td>\n",
       "      <td>353525</td>\n",
       "      <td>356126</td>\n",
       "      <td>358572</td>\n",
       "      <td>360925</td>\n",
       "    </tr>\n",
       "    <tr>\n",
       "      <th>2</th>\n",
       "      <td>Суботица</td>\n",
       "      <td>Суботица</td>\n",
       "      <td>2</td>\n",
       "      <td>138331</td>\n",
       "      <td>137753</td>\n",
       "      <td>137173</td>\n",
       "      <td>136475</td>\n",
       "    </tr>\n",
       "    <tr>\n",
       "      <th>3</th>\n",
       "      <td>Сомбор</td>\n",
       "      <td>Сомбор</td>\n",
       "      <td>2</td>\n",
       "      <td>81401</td>\n",
       "      <td>80400</td>\n",
       "      <td>79437</td>\n",
       "      <td>78472</td>\n",
       "    </tr>\n",
       "    <tr>\n",
       "      <th>4</th>\n",
       "      <td>Кикинда</td>\n",
       "      <td>Кикинда</td>\n",
       "      <td>2</td>\n",
       "      <td>55998</td>\n",
       "      <td>55318</td>\n",
       "      <td>54729</td>\n",
       "      <td>54131</td>\n",
       "    </tr>\n",
       "  </tbody>\n",
       "</table>\n",
       "</div>"
      ],
      "text/plain": [
       "        Opstina      Grad  IDRegiona  Stanovnistvo2017  Stanovnistvo2018  \\\n",
       "0  Петроварадин  Нови Сад          2             34041             34055   \n",
       "1      Нови Сад  Нови Сад          2            353525            356126   \n",
       "2      Суботица  Суботица          2            138331            137753   \n",
       "3        Сомбор    Сомбор          2             81401             80400   \n",
       "4       Кикинда   Кикинда          2             55998             55318   \n",
       "\n",
       "   Stanovnistvo2019  Stanovnistvo2020  \n",
       "0             34150             34281  \n",
       "1            358572            360925  \n",
       "2            137173            136475  \n",
       "3             79437             78472  \n",
       "4             54729             54131  "
      ]
     },
     "execution_count": 6,
     "metadata": {},
     "output_type": "execute_result"
    }
   ],
   "source": [
    "data.head()"
   ]
  },
  {
   "cell_type": "code",
   "execution_count": 7,
   "id": "adaeb7d3",
   "metadata": {},
   "outputs": [
    {
     "data": {
      "text/plain": [
       "(53, 7)"
      ]
     },
     "execution_count": 7,
     "metadata": {},
     "output_type": "execute_result"
    }
   ],
   "source": [
    "data.shape\n"
   ]
  },
  {
   "cell_type": "code",
   "execution_count": 8,
   "id": "7199c8cc",
   "metadata": {},
   "outputs": [
    {
     "data": {
      "text/plain": [
       "Index(['Opstina', 'Grad', 'IDRegiona', 'Stanovnistvo2017', 'Stanovnistvo2018',\n",
       "       'Stanovnistvo2019', 'Stanovnistvo2020'],\n",
       "      dtype='object')"
      ]
     },
     "execution_count": 8,
     "metadata": {},
     "output_type": "execute_result"
    }
   ],
   "source": [
    "data.columns"
   ]
  },
  {
   "cell_type": "code",
   "execution_count": 9,
   "id": "ba9706c0",
   "metadata": {},
   "outputs": [],
   "source": [
    "features = ['Stanovnistvo2017','Stanovnistvo2018', 'Stanovnistvo2019']"
   ]
  },
  {
   "cell_type": "code",
   "execution_count": 10,
   "id": "742b6029",
   "metadata": {},
   "outputs": [],
   "source": [
    "target=['Stanovnistvo2020']\n"
   ]
  },
  {
   "cell_type": "code",
   "execution_count": 11,
   "id": "6d3268b0",
   "metadata": {},
   "outputs": [],
   "source": [
    "data = data.dropna()"
   ]
  },
  {
   "cell_type": "code",
   "execution_count": 12,
   "id": "133f02ce",
   "metadata": {},
   "outputs": [],
   "source": [
    "x = data[features]"
   ]
  },
  {
   "cell_type": "code",
   "execution_count": 13,
   "id": "f45666f5",
   "metadata": {},
   "outputs": [],
   "source": [
    "y = data[target]"
   ]
  },
  {
   "cell_type": "code",
   "execution_count": 14,
   "id": "aca86219",
   "metadata": {},
   "outputs": [
    {
     "data": {
      "text/plain": [
       "Stanovnistvo2017    138331\n",
       "Stanovnistvo2018    137753\n",
       "Stanovnistvo2019    137173\n",
       "Name: 2, dtype: int64"
      ]
     },
     "execution_count": 14,
     "metadata": {},
     "output_type": "execute_result"
    }
   ],
   "source": [
    "x.iloc[2]"
   ]
  },
  {
   "cell_type": "code",
   "execution_count": 15,
   "id": "2462fcdd",
   "metadata": {},
   "outputs": [
    {
     "data": {
      "text/plain": [
       "Stanovnistvo2017    55998\n",
       "Stanovnistvo2018    55318\n",
       "Stanovnistvo2019    54729\n",
       "Name: 4, dtype: int64"
      ]
     },
     "execution_count": 15,
     "metadata": {},
     "output_type": "execute_result"
    }
   ],
   "source": [
    "x.iloc[4]"
   ]
  },
  {
   "cell_type": "code",
   "execution_count": 16,
   "id": "164c7aed",
   "metadata": {},
   "outputs": [
    {
     "data": {
      "text/html": [
       "<div>\n",
       "<style scoped>\n",
       "    .dataframe tbody tr th:only-of-type {\n",
       "        vertical-align: middle;\n",
       "    }\n",
       "\n",
       "    .dataframe tbody tr th {\n",
       "        vertical-align: top;\n",
       "    }\n",
       "\n",
       "    .dataframe thead th {\n",
       "        text-align: right;\n",
       "    }\n",
       "</style>\n",
       "<table border=\"1\" class=\"dataframe\">\n",
       "  <thead>\n",
       "    <tr style=\"text-align: right;\">\n",
       "      <th></th>\n",
       "      <th>Stanovnistvo2020</th>\n",
       "    </tr>\n",
       "  </thead>\n",
       "  <tbody>\n",
       "    <tr>\n",
       "      <th>0</th>\n",
       "      <td>34281</td>\n",
       "    </tr>\n",
       "    <tr>\n",
       "      <th>1</th>\n",
       "      <td>360925</td>\n",
       "    </tr>\n",
       "    <tr>\n",
       "      <th>2</th>\n",
       "      <td>136475</td>\n",
       "    </tr>\n",
       "    <tr>\n",
       "      <th>3</th>\n",
       "      <td>78472</td>\n",
       "    </tr>\n",
       "    <tr>\n",
       "      <th>4</th>\n",
       "      <td>54131</td>\n",
       "    </tr>\n",
       "    <tr>\n",
       "      <th>5</th>\n",
       "      <td>48913</td>\n",
       "    </tr>\n",
       "    <tr>\n",
       "      <th>6</th>\n",
       "      <td>119509</td>\n",
       "    </tr>\n",
       "    <tr>\n",
       "      <th>7</th>\n",
       "      <td>115797</td>\n",
       "    </tr>\n",
       "    <tr>\n",
       "      <th>8</th>\n",
       "      <td>75241</td>\n",
       "    </tr>\n",
       "    <tr>\n",
       "      <th>9</th>\n",
       "      <td>177108</td>\n",
       "    </tr>\n",
       "    <tr>\n",
       "      <th>10</th>\n",
       "      <td>213040</td>\n",
       "    </tr>\n",
       "    <tr>\n",
       "      <th>11</th>\n",
       "      <td>184488</td>\n",
       "    </tr>\n",
       "    <tr>\n",
       "      <th>12</th>\n",
       "      <td>107827</td>\n",
       "    </tr>\n",
       "    <tr>\n",
       "      <th>13</th>\n",
       "      <td>35359</td>\n",
       "    </tr>\n",
       "    <tr>\n",
       "      <th>14</th>\n",
       "      <td>44613</td>\n",
       "    </tr>\n",
       "    <tr>\n",
       "      <th>15</th>\n",
       "      <td>169495</td>\n",
       "    </tr>\n",
       "    <tr>\n",
       "      <th>16</th>\n",
       "      <td>57856</td>\n",
       "    </tr>\n",
       "    <tr>\n",
       "      <th>17</th>\n",
       "      <td>175550</td>\n",
       "    </tr>\n",
       "    <tr>\n",
       "      <th>18</th>\n",
       "      <td>168118</td>\n",
       "    </tr>\n",
       "    <tr>\n",
       "      <th>19</th>\n",
       "      <td>26798</td>\n",
       "    </tr>\n",
       "    <tr>\n",
       "      <th>20</th>\n",
       "      <td>86908</td>\n",
       "    </tr>\n",
       "    <tr>\n",
       "      <th>21</th>\n",
       "      <td>642</td>\n",
       "    </tr>\n",
       "    <tr>\n",
       "      <th>22</th>\n",
       "      <td>51613</td>\n",
       "    </tr>\n",
       "    <tr>\n",
       "      <th>23</th>\n",
       "      <td>72085</td>\n",
       "    </tr>\n",
       "    <tr>\n",
       "      <th>24</th>\n",
       "      <td>19788</td>\n",
       "    </tr>\n",
       "    <tr>\n",
       "      <th>25</th>\n",
       "      <td>46815</td>\n",
       "    </tr>\n",
       "    <tr>\n",
       "      <th>26</th>\n",
       "      <td>58689</td>\n",
       "    </tr>\n",
       "    <tr>\n",
       "      <th>27</th>\n",
       "      <td>13057</td>\n",
       "    </tr>\n",
       "    <tr>\n",
       "      <th>28</th>\n",
       "      <td>84880</td>\n",
       "    </tr>\n",
       "    <tr>\n",
       "      <th>29</th>\n",
       "      <td>72750</td>\n",
       "    </tr>\n",
       "    <tr>\n",
       "      <th>30</th>\n",
       "      <td>53388</td>\n",
       "    </tr>\n",
       "    <tr>\n",
       "      <th>31</th>\n",
       "      <td>14088</td>\n",
       "    </tr>\n",
       "    <tr>\n",
       "      <th>32</th>\n",
       "      <td>30795</td>\n",
       "    </tr>\n",
       "    <tr>\n",
       "      <th>33</th>\n",
       "      <td>79782</td>\n",
       "    </tr>\n",
       "    <tr>\n",
       "      <th>34</th>\n",
       "      <td>8732</td>\n",
       "    </tr>\n",
       "    <tr>\n",
       "      <th>35</th>\n",
       "      <td>134285</td>\n",
       "    </tr>\n",
       "    <tr>\n",
       "      <th>36</th>\n",
       "      <td>53824</td>\n",
       "    </tr>\n",
       "    <tr>\n",
       "      <th>37</th>\n",
       "      <td>53509</td>\n",
       "    </tr>\n",
       "    <tr>\n",
       "      <th>38</th>\n",
       "      <td>102288</td>\n",
       "    </tr>\n",
       "    <tr>\n",
       "      <th>39</th>\n",
       "      <td>40748</td>\n",
       "    </tr>\n",
       "    <tr>\n",
       "      <th>40</th>\n",
       "      <td>120154</td>\n",
       "    </tr>\n",
       "    <tr>\n",
       "      <th>41</th>\n",
       "      <td>109568</td>\n",
       "    </tr>\n",
       "    <tr>\n",
       "      <th>42</th>\n",
       "      <td>117168</td>\n",
       "    </tr>\n",
       "    <tr>\n",
       "      <th>43</th>\n",
       "      <td>107071</td>\n",
       "    </tr>\n",
       "    <tr>\n",
       "      <th>44</th>\n",
       "      <td>6612</td>\n",
       "    </tr>\n",
       "    <tr>\n",
       "      <th>45</th>\n",
       "      <td>72940</td>\n",
       "    </tr>\n",
       "    <tr>\n",
       "      <th>46</th>\n",
       "      <td>85316</td>\n",
       "    </tr>\n",
       "    <tr>\n",
       "      <th>47</th>\n",
       "      <td>110148</td>\n",
       "    </tr>\n",
       "    <tr>\n",
       "      <th>48</th>\n",
       "      <td>68926</td>\n",
       "    </tr>\n",
       "    <tr>\n",
       "      <th>49</th>\n",
       "      <td>74703</td>\n",
       "    </tr>\n",
       "    <tr>\n",
       "      <th>50</th>\n",
       "      <td>176699</td>\n",
       "    </tr>\n",
       "    <tr>\n",
       "      <th>51</th>\n",
       "      <td>147966</td>\n",
       "    </tr>\n",
       "    <tr>\n",
       "      <th>52</th>\n",
       "      <td>86163</td>\n",
       "    </tr>\n",
       "  </tbody>\n",
       "</table>\n",
       "</div>"
      ],
      "text/plain": [
       "    Stanovnistvo2020\n",
       "0              34281\n",
       "1             360925\n",
       "2             136475\n",
       "3              78472\n",
       "4              54131\n",
       "5              48913\n",
       "6             119509\n",
       "7             115797\n",
       "8              75241\n",
       "9             177108\n",
       "10            213040\n",
       "11            184488\n",
       "12            107827\n",
       "13             35359\n",
       "14             44613\n",
       "15            169495\n",
       "16             57856\n",
       "17            175550\n",
       "18            168118\n",
       "19             26798\n",
       "20             86908\n",
       "21               642\n",
       "22             51613\n",
       "23             72085\n",
       "24             19788\n",
       "25             46815\n",
       "26             58689\n",
       "27             13057\n",
       "28             84880\n",
       "29             72750\n",
       "30             53388\n",
       "31             14088\n",
       "32             30795\n",
       "33             79782\n",
       "34              8732\n",
       "35            134285\n",
       "36             53824\n",
       "37             53509\n",
       "38            102288\n",
       "39             40748\n",
       "40            120154\n",
       "41            109568\n",
       "42            117168\n",
       "43            107071\n",
       "44              6612\n",
       "45             72940\n",
       "46             85316\n",
       "47            110148\n",
       "48             68926\n",
       "49             74703\n",
       "50            176699\n",
       "51            147966\n",
       "52             86163"
      ]
     },
     "execution_count": 16,
     "metadata": {},
     "output_type": "execute_result"
    }
   ],
   "source": [
    "y"
   ]
  },
  {
   "cell_type": "code",
   "execution_count": 17,
   "id": "e3453de3",
   "metadata": {},
   "outputs": [],
   "source": [
    "x_train, x_test, y_train, y_test = train_test_split(x, y, test_size=0.33, random_state=324)"
   ]
  },
  {
   "cell_type": "code",
   "execution_count": 18,
   "id": "d028f20e",
   "metadata": {},
   "outputs": [
    {
     "data": {
      "text/plain": [
       "LinearRegression()"
      ]
     },
     "execution_count": 18,
     "metadata": {},
     "output_type": "execute_result"
    }
   ],
   "source": [
    "regressor = LinearRegression()\n",
    "regressor.fit(x_train, y_train)"
   ]
  },
  {
   "cell_type": "code",
   "execution_count": 19,
   "id": "c628d8a7",
   "metadata": {},
   "outputs": [
    {
     "data": {
      "text/plain": [
       "array([[ 53843.21804216],\n",
       "       [ 53440.35131029],\n",
       "       [ 34273.69429512],\n",
       "       [176841.75430233],\n",
       "       [136608.62751103],\n",
       "       [  6663.68667141],\n",
       "       [ 72778.2018613 ],\n",
       "       [107095.25894498],\n",
       "       [ 54146.4360334 ],\n",
       "       [109511.97215331],\n",
       "       [ 48863.48389624],\n",
       "       [ 72085.56688872],\n",
       "       [213533.16084475],\n",
       "       [168019.27676228],\n",
       "       [ 53538.66151036],\n",
       "       [ 79877.25305116],\n",
       "       [ 84878.25005764],\n",
       "       [115838.65948725]])"
      ]
     },
     "execution_count": 19,
     "metadata": {},
     "output_type": "execute_result"
    }
   ],
   "source": [
    "y_prediction = regressor.predict(x_test)\n",
    "y_prediction"
   ]
  },
  {
   "cell_type": "code",
   "execution_count": 20,
   "id": "d4b24ced",
   "metadata": {},
   "outputs": [
    {
     "data": {
      "text/html": [
       "<div>\n",
       "<style scoped>\n",
       "    .dataframe tbody tr th:only-of-type {\n",
       "        vertical-align: middle;\n",
       "    }\n",
       "\n",
       "    .dataframe tbody tr th {\n",
       "        vertical-align: top;\n",
       "    }\n",
       "\n",
       "    .dataframe thead th {\n",
       "        text-align: right;\n",
       "    }\n",
       "</style>\n",
       "<table border=\"1\" class=\"dataframe\">\n",
       "  <thead>\n",
       "    <tr style=\"text-align: right;\">\n",
       "      <th></th>\n",
       "      <th>Stanovnistvo2020</th>\n",
       "    </tr>\n",
       "  </thead>\n",
       "  <tbody>\n",
       "    <tr>\n",
       "      <th>count</th>\n",
       "      <td>18.000000</td>\n",
       "    </tr>\n",
       "    <tr>\n",
       "      <th>mean</th>\n",
       "      <td>91162.388889</td>\n",
       "    </tr>\n",
       "    <tr>\n",
       "      <th>std</th>\n",
       "      <td>54230.528870</td>\n",
       "    </tr>\n",
       "    <tr>\n",
       "      <th>min</th>\n",
       "      <td>6612.000000</td>\n",
       "    </tr>\n",
       "    <tr>\n",
       "      <th>25%</th>\n",
       "      <td>53587.750000</td>\n",
       "    </tr>\n",
       "    <tr>\n",
       "      <th>50%</th>\n",
       "      <td>76266.000000</td>\n",
       "    </tr>\n",
       "    <tr>\n",
       "      <th>75%</th>\n",
       "      <td>114239.750000</td>\n",
       "    </tr>\n",
       "    <tr>\n",
       "      <th>max</th>\n",
       "      <td>213040.000000</td>\n",
       "    </tr>\n",
       "  </tbody>\n",
       "</table>\n",
       "</div>"
      ],
      "text/plain": [
       "       Stanovnistvo2020\n",
       "count         18.000000\n",
       "mean       91162.388889\n",
       "std        54230.528870\n",
       "min         6612.000000\n",
       "25%        53587.750000\n",
       "50%        76266.000000\n",
       "75%       114239.750000\n",
       "max       213040.000000"
      ]
     },
     "execution_count": 20,
     "metadata": {},
     "output_type": "execute_result"
    }
   ],
   "source": [
    "y_test.describe()"
   ]
  },
  {
   "cell_type": "code",
   "execution_count": 21,
   "id": "ae6d4ce4",
   "metadata": {},
   "outputs": [],
   "source": [
    "RMSE = sqrt(mean_squared_error(y_true = y_test, y_pred = y_prediction))"
   ]
  },
  {
   "cell_type": "code",
   "execution_count": 22,
   "id": "83ae909a",
   "metadata": {},
   "outputs": [
    {
     "name": "stdout",
     "output_type": "stream",
     "text": [
      "132.4824515228902\n"
     ]
    }
   ],
   "source": [
    "print(RMSE)"
   ]
  },
  {
   "cell_type": "code",
   "execution_count": 23,
   "id": "bbb06600",
   "metadata": {},
   "outputs": [
    {
     "data": {
      "text/plain": [
       "DecisionTreeRegressor(max_depth=20)"
      ]
     },
     "execution_count": 23,
     "metadata": {},
     "output_type": "execute_result"
    }
   ],
   "source": [
    "regressor = DecisionTreeRegressor(max_depth=20)\n",
    "regressor.fit(x_train, y_train)"
   ]
  },
  {
   "cell_type": "code",
   "execution_count": 24,
   "id": "9d732b96",
   "metadata": {},
   "outputs": [
    {
     "data": {
      "text/plain": [
       "array([ 51613.,  51613.,  35359., 177108., 134285.,   8732.,  72940.,\n",
       "       102288.,  51613., 110148.,  51613.,  72940., 184488., 169495.,\n",
       "        51613.,  78472.,  86163., 117168.])"
      ]
     },
     "execution_count": 24,
     "metadata": {},
     "output_type": "execute_result"
    }
   ],
   "source": [
    "y_prediction = regressor.predict(x_test)\n",
    "y_prediction"
   ]
  },
  {
   "cell_type": "code",
   "execution_count": 25,
   "id": "c768a2b0",
   "metadata": {},
   "outputs": [
    {
     "data": {
      "text/html": [
       "<div>\n",
       "<style scoped>\n",
       "    .dataframe tbody tr th:only-of-type {\n",
       "        vertical-align: middle;\n",
       "    }\n",
       "\n",
       "    .dataframe tbody tr th {\n",
       "        vertical-align: top;\n",
       "    }\n",
       "\n",
       "    .dataframe thead th {\n",
       "        text-align: right;\n",
       "    }\n",
       "</style>\n",
       "<table border=\"1\" class=\"dataframe\">\n",
       "  <thead>\n",
       "    <tr style=\"text-align: right;\">\n",
       "      <th></th>\n",
       "      <th>Stanovnistvo2020</th>\n",
       "    </tr>\n",
       "  </thead>\n",
       "  <tbody>\n",
       "    <tr>\n",
       "      <th>count</th>\n",
       "      <td>18.000000</td>\n",
       "    </tr>\n",
       "    <tr>\n",
       "      <th>mean</th>\n",
       "      <td>91162.388889</td>\n",
       "    </tr>\n",
       "    <tr>\n",
       "      <th>std</th>\n",
       "      <td>54230.528870</td>\n",
       "    </tr>\n",
       "    <tr>\n",
       "      <th>min</th>\n",
       "      <td>6612.000000</td>\n",
       "    </tr>\n",
       "    <tr>\n",
       "      <th>25%</th>\n",
       "      <td>53587.750000</td>\n",
       "    </tr>\n",
       "    <tr>\n",
       "      <th>50%</th>\n",
       "      <td>76266.000000</td>\n",
       "    </tr>\n",
       "    <tr>\n",
       "      <th>75%</th>\n",
       "      <td>114239.750000</td>\n",
       "    </tr>\n",
       "    <tr>\n",
       "      <th>max</th>\n",
       "      <td>213040.000000</td>\n",
       "    </tr>\n",
       "  </tbody>\n",
       "</table>\n",
       "</div>"
      ],
      "text/plain": [
       "       Stanovnistvo2020\n",
       "count         18.000000\n",
       "mean       91162.388889\n",
       "std        54230.528870\n",
       "min         6612.000000\n",
       "25%        53587.750000\n",
       "50%        76266.000000\n",
       "75%       114239.750000\n",
       "max       213040.000000"
      ]
     },
     "execution_count": 25,
     "metadata": {},
     "output_type": "execute_result"
    }
   ],
   "source": [
    "y_test.describe()"
   ]
  },
  {
   "cell_type": "code",
   "execution_count": 26,
   "id": "774c9c93",
   "metadata": {},
   "outputs": [],
   "source": [
    "RMSE = sqrt(mean_squared_error(y_true = y_test, y_pred = y_prediction))"
   ]
  },
  {
   "cell_type": "code",
   "execution_count": 27,
   "id": "aba41dfe",
   "metadata": {},
   "outputs": [
    {
     "name": "stdout",
     "output_type": "stream",
     "text": [
      "7000.870691881435\n"
     ]
    }
   ],
   "source": [
    "print(RMSE)"
   ]
  },
  {
   "cell_type": "code",
   "execution_count": null,
   "id": "f59ecc81",
   "metadata": {},
   "outputs": [],
   "source": []
  }
 ],
 "metadata": {
  "kernelspec": {
   "display_name": "Python 3 (ipykernel)",
   "language": "python",
   "name": "python3"
  },
  "language_info": {
   "codemirror_mode": {
    "name": "ipython",
    "version": 3
   },
   "file_extension": ".py",
   "mimetype": "text/x-python",
   "name": "python",
   "nbconvert_exporter": "python",
   "pygments_lexer": "ipython3",
   "version": "3.9.12"
  }
 },
 "nbformat": 4,
 "nbformat_minor": 5
}
